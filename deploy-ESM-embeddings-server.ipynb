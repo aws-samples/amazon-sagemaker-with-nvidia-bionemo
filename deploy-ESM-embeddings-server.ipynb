{
 "cells": [
  {
   "cell_type": "markdown",
   "id": "f9586f20",
   "metadata": {},
   "source": [
    "# Deploy ESM Embeddings Server on on Amazon SageMaker\n",
    "\n",
    "Copyright 2024 Amazon.com, Inc. or its affiliates. All Rights Reserved.\n",
    "SPDX-License-Identifier: MIT-0"
   ]
  },
  {
   "cell_type": "markdown",
   "id": "97b562fb",
   "metadata": {},
   "source": [
    "---\n",
    "## 1. Setup"
   ]
  },
  {
   "cell_type": "markdown",
   "id": "88a64f1b",
   "metadata": {},
   "source": [
    "### 1.1. Create clients"
   ]
  },
  {
   "cell_type": "code",
   "execution_count": null,
   "id": "1c273482-ffb7-49af-a83f-19a7759a7621",
   "metadata": {
    "tags": []
   },
   "outputs": [],
   "source": [
    "import boto3\n",
    "import sagemaker\n",
    "\n",
    "boto_session = boto3.session.Session()\n",
    "sagemaker_session = sagemaker.session.Session(boto_session)\n",
    "s3 = boto_session.resource(\"s3\")\n",
    "region = boto_session.region_name\n",
    "role = sagemaker.get_execution_role()"
   ]
  },
  {
   "cell_type": "markdown",
   "id": "a6c5b022",
   "metadata": {},
   "source": [
    "### 1.2. Build BioNeMo-Inference Container Image\n",
    "\n",
    "If you don't already have access to the BioNeMo-SageMaker container image, run the following cell to build and deploy it to your AWS account. Take note of the image URI - you'll use it for the processing and training steps below.\n",
    "\n",
    "Here is an example shell script you can use in your environment (including SageMaker Notebook Instances) to build the container.\n",
    "\n",
    "Once you have built and pushed the container, we strongly recommend using [ECR image scanning](https://docs.aws.amazon.com/AmazonECR/latest/userguide/image-scanning.html) to ensure that it meets your security requirements."
   ]
  },
  {
   "cell_type": "code",
   "execution_count": null,
   "id": "2d24d513",
   "metadata": {
    "scrolled": true,
    "tags": []
   },
   "outputs": [],
   "source": [
    "%%bash\n",
    "\n",
    "# The name of our algorithm\n",
    "algorithm_name=bionemo-inference\n",
    "\n",
    "pushd container/inference\n",
    "\n",
    "account=$(aws sts get-caller-identity --query Account --output text)\n",
    "\n",
    "# Get the region defined in the current configuration (default to us-west-2 if none defined)\n",
    "region=$(aws configure get region)\n",
    "region=${region:-us-west-2}\n",
    "\n",
    "fullname=\"${account}.dkr.ecr.${region}.amazonaws.com/${algorithm_name}:latest\"\n",
    "\n",
    "# If the repository doesn't exist in ECR, create it.\n",
    "aws ecr describe-repositories --repository-names \"${algorithm_name}\" > /dev/null 2>&1\n",
    "\n",
    "if [ $? -ne 0 ]\n",
    "then\n",
    "    aws ecr create-repository --repository-name \"${algorithm_name}\" > /dev/null\n",
    "fi\n",
    "\n",
    "# Get the login command from ECR and execute it directly\n",
    "$(aws ecr get-login --region ${region} --no-include-email)\n",
    "\n",
    "# Build the docker image locally with the image name and then push it to ECR\n",
    "# with the full name.\n",
    "\n",
    "docker build -t ${algorithm_name} .\n",
    "docker tag ${algorithm_name} ${fullname}\n",
    "\n",
    "docker push ${fullname}\n",
    "\n",
    "popd"
   ]
  },
  {
   "cell_type": "markdown",
   "id": "8f7bd546",
   "metadata": {},
   "source": [
    "---\n",
    "## 2. Deploy Real-Time Inference Endpoint"
   ]
  },
  {
   "cell_type": "markdown",
   "id": "80794653",
   "metadata": {},
   "source": [
    "### 2.1. Create esm1nv model"
   ]
  },
  {
   "cell_type": "code",
   "execution_count": null,
   "id": "c89024a7-f1fa-47df-bd1a-987fa6e647ea",
   "metadata": {
    "tags": []
   },
   "outputs": [],
   "source": [
    "from sagemaker.model import Model\n",
    "\n",
    "# Replace this with your ECR repository URI from above\n",
    "BIONEMO_IMAGE_URI = (\n",
    "    \"<ACCOUNT ID>.dkr.ecr.<REGION>.amazonaws.com/bionemo-inference:latest\"\n",
    ")\n",
    "\n",
    "esm_embeddings = Model(\n",
    "    image_uri=BIONEMO_IMAGE_URI,\n",
    "    name=\"esm-embeddings\",\n",
    "    model_data=None,\n",
    "    role=role,\n",
    "    predictor_cls=sagemaker.predictor.Predictor,\n",
    "    sagemaker_session=sagemaker_session,\n",
    "    env={\"SM_SECRET_NAME\": \"NVIDIA_NGC_CREDS\", \"MODEL_NAME\": \"esm1nv\"},\n",
    ")"
   ]
  },
  {
   "cell_type": "markdown",
   "id": "88734416",
   "metadata": {},
   "source": [
    "### 2.2. Deploy model to SageMaker endpoint"
   ]
  },
  {
   "cell_type": "code",
   "execution_count": null,
   "id": "9e557430-556f-4185-8f43-f90c691ed7db",
   "metadata": {
    "tags": []
   },
   "outputs": [],
   "source": [
    "esm_embeddings_predictor = esm_embeddings.deploy(\n",
    "    initial_instance_count=1,\n",
    "    instance_type='ml.g5.xlarge',\n",
    "    serializer = sagemaker.base_serializers.CSVSerializer(),\n",
    "    deserializer = sagemaker.base_deserializers.NumpyDeserializer()\n",
    ")"
   ]
  },
  {
   "cell_type": "markdown",
   "id": "483388b3",
   "metadata": {},
   "source": [
    "### 2.3. Test model"
   ]
  },
  {
   "cell_type": "code",
   "execution_count": null,
   "id": "61852f67-ae4e-4f17-86d0-5039e7fa94bd",
   "metadata": {
    "tags": []
   },
   "outputs": [],
   "source": [
    "esm_embeddings_predictor.predict(\"MSLKRKNIALIPAAGIGVRFGADKPKQYVEIGSKTVLEHVL,MIQSQINRNIRLDLADAILLSKAKKDLSFAEIADGTGLA\")"
   ]
  },
  {
   "cell_type": "code",
   "execution_count": null,
   "id": "9a0ac500-4e63-41f7-9b52-9acdda34f84f",
   "metadata": {},
   "outputs": [],
   "source": []
  }
 ],
 "metadata": {
  "kernelspec": {
   "display_name": "conda_python3",
   "language": "python",
   "name": "conda_python3"
  },
  "language_info": {
   "codemirror_mode": {
    "name": "ipython",
    "version": 3
   },
   "file_extension": ".py",
   "mimetype": "text/x-python",
   "name": "python",
   "nbconvert_exporter": "python",
   "pygments_lexer": "ipython3",
   "version": "3.10.15"
  }
 },
 "nbformat": 4,
 "nbformat_minor": 5
}
